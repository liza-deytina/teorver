{
 "cells": [
  {
   "cell_type": "code",
   "execution_count": 1,
   "metadata": {},
   "outputs": [],
   "source": [
    "import sys\n",
    "import math\n",
    "import pandas as pd\n",
    "import numpy as np\n",
    "import scipy\n",
    "import matplotlib.pyplot as plt\n",
    "from scipy.stats import t, chi2, f, norm\n",
    "import seaborn as sns\n",
    "from scipy.stats import t, chi2, f, norm, poisson, binom, uniform, multivariate_normal\n",
    "import pandas as pd\n",
    "import numpy as np\n",
    "import seaborn as sns\n",
    "import matplotlib.pyplot as plt"
   ]
  },
  {
   "cell_type": "markdown",
   "metadata": {},
   "source": [
    "# Часть №1. Распределение Хи-Квадрат"
   ]
  },
  {
   "cell_type": "code",
   "execution_count": 2,
   "metadata": {},
   "outputs": [],
   "source": [
    "df = 10"
   ]
  },
  {
   "cell_type": "code",
   "execution_count": 3,
   "metadata": {},
   "outputs": [
    {
     "data": {
      "text/plain": [
       "[<matplotlib.lines.Line2D at 0x1cf7bf8ad60>]"
      ]
     },
     "execution_count": 3,
     "metadata": {},
     "output_type": "execute_result"
    },
    {
     "data": {
      "image/png": "[encoded data removed]",
      "text/plain": [
       "<Figure size 432x288 with 1 Axes>"
      ]
     },
     "metadata": {
      "needs_background": "light"
     },
     "output_type": "display_data"
    }
   ],
   "source": [
    "x = np.linspace(0,                                    # точки, между которыми будет\n",
    "                chi2.ppf(q = 0.999, df = df),         # строиться график\n",
    "                1000)                                 # количество точек (чем больше, тем больше детализация)\n",
    "f_x = chi2.pdf(x, df = df)                            # значение функции плотности в соответствующих точках\n",
    "F_x = chi2.cdf(x, df = df)                            # значение функции распределения в соответствующих точках\n",
    "plt.xlabel('x')                                       # название нижней оси графика\n",
    "plt.ylabel('f(x)')                                    # название верхней оси графика\n",
    "plt.plot(f_x, 'ro', markersize = 1)                   # график функции плотности\n",
    "plt.plot(F_x, 'ro', markersize = 1)"
   ]
  },
  {
   "cell_type": "code",
   "execution_count": 4,
   "metadata": {},
   "outputs": [
    {
     "data": {
      "text/plain": [
       "0.5506710358827784"
      ]
     },
     "execution_count": 4,
     "metadata": {},
     "output_type": "execute_result"
    }
   ],
   "source": [
    "# Хи-Квадрат распределение с 2-мя степенями\n",
    "# свободы совпадает с экспоненциальным\n",
    "# распределение с математическим ожидананием 2,\n",
    "# то есть с параметром lambda = 0.5.\n",
    "alpha = 1.6                                           # берем произвольную точку\n",
    "chi2.cdf(alpha, df = 2)                               # убеждаем что функция распределения chi2(2) в этой точке\n",
    "1 - math.exp(-0.5 * alpha)                            # равняется функции распределения EXP(0.5)\n"
   ]
  },
  {
   "cell_type": "markdown",
   "metadata": {},
   "source": [
    "# Часть №2. Распределение Стьюдента"
   ]
  },
  {
   "cell_type": "code",
   "execution_count": 5,
   "metadata": {},
   "outputs": [
    {
     "data": {
      "text/plain": [
       "[<matplotlib.lines.Line2D at 0x1cf7c03e880>]"
      ]
     },
     "execution_count": 5,
     "metadata": {},
     "output_type": "execute_result"
    },
    {
     "data": {
      "image/png": "[encoded data removed]",
      "text/plain": [
       "<Figure size 432x288 with 1 Axes>"
      ]
     },
     "metadata": {
      "needs_background": "light"
     },
     "output_type": "display_data"
    }
   ],
   "source": [
    "# График функции плотности и\n",
    "# функции распределения\n",
    "x = np.linspace(t.ppf(q = 0.001, df = df),            # точки, между которыми будет\n",
    "                t.ppf(q = 0.999, df = df),            # строиться график\n",
    "                1000)                                 # количество точек (чем больше, тем больше детализация)\n",
    "f_x = t.pdf(x, df = df)                               # значение функции плотности в соответствующих точках\n",
    "F_x = t.cdf(x, df = df)                               # значение функции распределения в соответствующих точках\n",
    "plt.xlabel('x')                                       # название нижней оси графика\n",
    "plt.ylabel('f(x)')                                    # название верхней оси графика\n",
    "plt.plot(f_x, 'ro', markersize = 1)                   # график функции плотности\n",
    "plt.plot(F_x, 'ro', markersize = 1)                   # график функции распределения\n"
   ]
  },
  {
   "cell_type": "markdown",
   "metadata": {},
   "source": [
    "# Часть №3. Распределение Фишера"
   ]
  },
  {
   "cell_type": "code",
   "execution_count": 7,
   "metadata": {},
   "outputs": [],
   "source": [
    "# Пусть случайная величина X имеет распределение\n",
    "# Фишера с 5-ю и 10-ю степенями свободы,\n",
    "# то есть X~F(5, 10).\n",
    "df1 = 5                                               # число степеней свободы\n",
    "df2 = 10"
   ]
  },
  {
   "cell_type": "code",
   "execution_count": 11,
   "metadata": {},
   "outputs": [
    {
     "data": {
      "text/plain": [
       "''"
      ]
     },
     "execution_count": 11,
     "metadata": {},
     "output_type": "execute_result"
    },
    {
     "data": {
      "image/png": "[encoded data removed]",
      "text/plain": [
       "<Figure size 432x288 with 1 Axes>"
      ]
     },
     "metadata": {
      "needs_background": "light"
     },
     "output_type": "display_data"
    }
   ],
   "source": [
    "# График функции плотности и\n",
    "# функции распределения\n",
    "x = np.linspace(f.ppf(q = 0.001,\n",
    "                      dfn = df1, dfd = df2),          # точки, между которыми будет\n",
    "                f.ppf(q = 0.999,                      # строиться график\n",
    "                      dfn = df1, dfd = df2),\n",
    "                1000)                                 # количество точек (чем больше, тем больше детализация)\n",
    "f_x = f.pdf(x, dfn = df1, dfd = df2)                  # значение функции плотности в соответствующих точках\n",
    "F_x = f.cdf(x, dfn = df1, dfd = df2)                  # значение функции распределения в соответствующих точках\n",
    "plt.xlabel('x')                                       # название нижней оси графика\n",
    "plt.ylabel('f(x)')                                    # название верхней оси графика\n",
    "plt.plot(f_x, 'ro', markersize = 1)                   # график функции плотности\n",
    "plt.plot(F_x, 'ro', markersize = 1)                   # график функции распределения\n",
    ";"
   ]
  },
  {
   "cell_type": "markdown",
   "metadata": {},
   "source": [
    "# Задания"
   ]
  },
  {
   "cell_type": "markdown",
   "metadata": {},
   "source": [
    "### 1. Случайная величина X имеет Хи-квадрат распредедение\n",
    "### с 10-ю степенями свободы"
   ]
  },
  {
   "cell_type": "markdown",
   "metadata": {},
   "source": [
    "то есть X~chi2(10)"
   ]
  },
  {
   "cell_type": "code",
   "execution_count": 12,
   "metadata": {},
   "outputs": [],
   "source": [
    "df = 10 "
   ]
  },
  {
   "cell_type": "markdown",
   "metadata": {},
   "source": [
    "Рассчитайте:\n",
    "1)     P(X <= 1.5)"
   ]
  },
  {
   "cell_type": "code",
   "execution_count": 13,
   "metadata": {},
   "outputs": [
    {
     "data": {
      "text/plain": [
       "0.0010646777727857928"
      ]
     },
     "execution_count": 13,
     "metadata": {},
     "output_type": "execute_result"
    }
   ],
   "source": [
    "chi2.cdf(1.5, df = df)"
   ]
  },
  {
   "cell_type": "markdown",
   "metadata": {},
   "source": [
    "2)     P(X > 1.5)"
   ]
  },
  {
   "cell_type": "code",
   "execution_count": 14,
   "metadata": {},
   "outputs": [
    {
     "data": {
      "text/plain": [
       "0.9989353222272143"
      ]
     },
     "execution_count": 14,
     "metadata": {},
     "output_type": "execute_result"
    }
   ],
   "source": [
    "1 - chi2.cdf(1.5, df = df)"
   ]
  },
  {
   "cell_type": "markdown",
   "metadata": {},
   "source": [
    "3)     P(1.5 <= X <= 2)"
   ]
  },
  {
   "cell_type": "code",
   "execution_count": 15,
   "metadata": {},
   "outputs": [
    {
     "data": {
      "text/plain": [
       "0.0025951690545579203"
      ]
     },
     "execution_count": 15,
     "metadata": {},
     "output_type": "execute_result"
    }
   ],
   "source": [
    "chi2.cdf(2, df = df) - chi2.cdf(1.5, df = df)"
   ]
  },
  {
   "cell_type": "markdown",
   "metadata": {},
   "source": [
    "4)     E(X), Var(X), Median(X)"
   ]
  },
  {
   "cell_type": "code",
   "execution_count": 16,
   "metadata": {},
   "outputs": [
    {
     "data": {
      "text/plain": [
       "10.0"
      ]
     },
     "execution_count": 16,
     "metadata": {},
     "output_type": "execute_result"
    }
   ],
   "source": [
    "chi2.mean(df = df) #E(X)"
   ]
  },
  {
   "cell_type": "code",
   "execution_count": 17,
   "metadata": {},
   "outputs": [
    {
     "data": {
      "text/plain": [
       "20.0"
      ]
     },
     "execution_count": 17,
     "metadata": {},
     "output_type": "execute_result"
    }
   ],
   "source": [
    "chi2.var(df = df) #Var(X)"
   ]
  },
  {
   "cell_type": "code",
   "execution_count": 18,
   "metadata": {},
   "outputs": [
    {
     "data": {
      "text/plain": [
       "9.34181776559197"
      ]
     },
     "execution_count": 18,
     "metadata": {},
     "output_type": "execute_result"
    }
   ],
   "source": [
    "chi2.median(df = df) #Median(X)"
   ]
  },
  {
   "cell_type": "markdown",
   "metadata": {},
   "source": [
    "5)     E(X ^ 3)"
   ]
  },
  {
   "cell_type": "code",
   "execution_count": 19,
   "metadata": {},
   "outputs": [
    {
     "data": {
      "text/plain": [
       "1680.0"
      ]
     },
     "execution_count": 19,
     "metadata": {},
     "output_type": "execute_result"
    }
   ],
   "source": [
    "chi2.moment(n = 3, df = df)"
   ]
  },
  {
   "cell_type": "markdown",
   "metadata": {},
   "source": [
    "7)     Квантиль уровня 0.1"
   ]
  },
  {
   "cell_type": "code",
   "execution_count": 20,
   "metadata": {},
   "outputs": [
    {
     "data": {
      "text/plain": [
       "4.865182051925328"
      ]
     },
     "execution_count": 20,
     "metadata": {},
     "output_type": "execute_result"
    }
   ],
   "source": [
    "chi2.ppf(q = 0.1, df = df)"
   ]
  },
  {
   "cell_type": "markdown",
   "metadata": {},
   "source": [
    "### 2. Повторите предыдущее задание предполагая, что:\n",
    "###    2)     X имеет распределение Фишера с 10 и 8 степенями свободы"
   ]
  },
  {
   "cell_type": "markdown",
   "metadata": {},
   "source": [
    "то есть то есть X~F(10, 8))"
   ]
  },
  {
   "cell_type": "code",
   "execution_count": 21,
   "metadata": {},
   "outputs": [],
   "source": [
    "df1 = 10                                               # число степеней свободы\n",
    "df2 = 8"
   ]
  },
  {
   "cell_type": "markdown",
   "metadata": {},
   "source": [
    "Рассчитайте: 1) P(X <= 1.5)"
   ]
  },
  {
   "cell_type": "code",
   "execution_count": 22,
   "metadata": {},
   "outputs": [
    {
     "data": {
      "text/plain": [
       "0.7110457163218693"
      ]
     },
     "execution_count": 22,
     "metadata": {},
     "output_type": "execute_result"
    }
   ],
   "source": [
    "f.cdf(1.5, dfn = df1, dfd = df2)"
   ]
  },
  {
   "cell_type": "markdown",
   "metadata": {},
   "source": [
    "2) P(X > 1.5)"
   ]
  },
  {
   "cell_type": "code",
   "execution_count": 23,
   "metadata": {},
   "outputs": [
    {
     "data": {
      "text/plain": [
       "0.2889542836781307"
      ]
     },
     "execution_count": 23,
     "metadata": {},
     "output_type": "execute_result"
    }
   ],
   "source": [
    "1 - f.cdf(1.5, dfn = df1, dfd = df2)"
   ]
  },
  {
   "cell_type": "markdown",
   "metadata": {},
   "source": [
    "3) P(1.5 <= X <= 2)"
   ]
  },
  {
   "cell_type": "code",
   "execution_count": 24,
   "metadata": {},
   "outputs": [
    {
     "data": {
      "text/plain": [
       "0.11996735767669531"
      ]
     },
     "execution_count": 24,
     "metadata": {},
     "output_type": "execute_result"
    }
   ],
   "source": [
    "f.cdf(2, dfn = df1, dfd = df2) - f.cdf(1.5, dfn = df1, dfd = df2)"
   ]
  },
  {
   "cell_type": "markdown",
   "metadata": {},
   "source": [
    "4) E(X), Var(X), Median(X)"
   ]
  },
  {
   "cell_type": "code",
   "execution_count": 25,
   "metadata": {},
   "outputs": [
    {
     "data": {
      "text/plain": [
       "1.3333333333333333"
      ]
     },
     "execution_count": 25,
     "metadata": {},
     "output_type": "execute_result"
    }
   ],
   "source": [
    "f.mean(dfn = df1, dfd = df2)                          # E(X)                    - математическое ожидание X"
   ]
  },
  {
   "cell_type": "code",
   "execution_count": 26,
   "metadata": {},
   "outputs": [
    {
     "data": {
      "text/plain": [
       "1.4222222222222223"
      ]
     },
     "execution_count": 26,
     "metadata": {},
     "output_type": "execute_result"
    }
   ],
   "source": [
    "f.var(dfn = df1, dfd = df2)                           # Var(X)                  - дисперсия X\n"
   ]
  },
  {
   "cell_type": "code",
   "execution_count": 27,
   "metadata": {},
   "outputs": [
    {
     "data": {
      "text/plain": [
       "1.0175407028614551"
      ]
     },
     "execution_count": 27,
     "metadata": {},
     "output_type": "execute_result"
    }
   ],
   "source": [
    "f.median(dfn = df1, dfd = df2)                        # Median(X)               - медиана X"
   ]
  },
  {
   "cell_type": "markdown",
   "metadata": {},
   "source": [
    "5) E(X ^ 3)"
   ]
  },
  {
   "cell_type": "code",
   "execution_count": 28,
   "metadata": {},
   "outputs": [
    {
     "data": {
      "text/plain": [
       "17.92"
      ]
     },
     "execution_count": 28,
     "metadata": {},
     "output_type": "execute_result"
    }
   ],
   "source": [
    "f.moment(n = 3, dfn = df1, dfd = df2)"
   ]
  },
  {
   "cell_type": "markdown",
   "metadata": {},
   "source": [
    "7) Квантиль уровня 0.1"
   ]
  },
  {
   "cell_type": "code",
   "execution_count": 29,
   "metadata": {},
   "outputs": [
    {
     "data": {
      "text/plain": [
       "0.4206718088786043"
      ]
     },
     "execution_count": 29,
     "metadata": {},
     "output_type": "execute_result"
    }
   ],
   "source": [
    "f.ppf(q = 0.1, dfn = df1, dfd = df2)"
   ]
  },
  {
   "cell_type": "markdown",
   "metadata": {},
   "source": [
    "### 2. Повторите предыдущее задание предполагая, что:\n",
    "###    1)     X имеет распределение Стьюдента с 10 степенями свободы"
   ]
  },
  {
   "cell_type": "markdown",
   "metadata": {},
   "source": [
    "то есть X~t(10)"
   ]
  },
  {
   "cell_type": "code",
   "execution_count": 30,
   "metadata": {},
   "outputs": [],
   "source": [
    "df = 10"
   ]
  },
  {
   "cell_type": "markdown",
   "metadata": {},
   "source": [
    "Рассчитайте: 1) P(X <= 1.5)"
   ]
  },
  {
   "cell_type": "code",
   "execution_count": 31,
   "metadata": {},
   "outputs": [
    {
     "data": {
      "text/plain": [
       "0.9177463367772799"
      ]
     },
     "execution_count": 31,
     "metadata": {},
     "output_type": "execute_result"
    }
   ],
   "source": [
    "t.cdf(1.5, df = df)"
   ]
  },
  {
   "cell_type": "markdown",
   "metadata": {},
   "source": [
    "2) P(X > 1.5)"
   ]
  },
  {
   "cell_type": "code",
   "execution_count": 32,
   "metadata": {},
   "outputs": [
    {
     "data": {
      "text/plain": [
       "0.0822536632227201"
      ]
     },
     "execution_count": 32,
     "metadata": {},
     "output_type": "execute_result"
    }
   ],
   "source": [
    "1 - t.cdf(1.5, df = df)"
   ]
  },
  {
   "cell_type": "markdown",
   "metadata": {},
   "source": [
    "3) P(1.5 <= X <= 2)"
   ]
  },
  {
   "cell_type": "code",
   "execution_count": 33,
   "metadata": {},
   "outputs": [
    {
     "data": {
      "text/plain": [
       "0.04555964583734984"
      ]
     },
     "execution_count": 33,
     "metadata": {},
     "output_type": "execute_result"
    }
   ],
   "source": [
    "t.cdf(2, df = df) - t.cdf(1.5, df = df)"
   ]
  },
  {
   "cell_type": "markdown",
   "metadata": {},
   "source": [
    "4) E(X), Var(X), Median(X)"
   ]
  },
  {
   "cell_type": "code",
   "execution_count": 34,
   "metadata": {},
   "outputs": [
    {
     "data": {
      "text/plain": [
       "0.0"
      ]
     },
     "execution_count": 34,
     "metadata": {},
     "output_type": "execute_result"
    }
   ],
   "source": [
    "t.mean(df = df)                                       # E(X)                    - математическое ожидание X\n"
   ]
  },
  {
   "cell_type": "code",
   "execution_count": 35,
   "metadata": {},
   "outputs": [
    {
     "data": {
      "text/plain": [
       "1.25"
      ]
     },
     "execution_count": 35,
     "metadata": {},
     "output_type": "execute_result"
    }
   ],
   "source": [
    "t.var(df = df)                                        # Var(X)                  - дисперсия X\n"
   ]
  },
  {
   "cell_type": "code",
   "execution_count": 36,
   "metadata": {},
   "outputs": [
    {
     "data": {
      "text/plain": [
       "6.80574793290978e-17"
      ]
     },
     "execution_count": 36,
     "metadata": {},
     "output_type": "execute_result"
    }
   ],
   "source": [
    "t.median(df = df)                                     # Median(X)               - медиана X"
   ]
  },
  {
   "cell_type": "markdown",
   "metadata": {},
   "source": [
    "5) E(X ^ 3)"
   ]
  },
  {
   "cell_type": "code",
   "execution_count": 37,
   "metadata": {},
   "outputs": [
    {
     "data": {
      "text/plain": [
       "0.0"
      ]
     },
     "execution_count": 37,
     "metadata": {},
     "output_type": "execute_result"
    }
   ],
   "source": [
    "t.moment(n = 3, df = df)"
   ]
  },
  {
   "cell_type": "markdown",
   "metadata": {},
   "source": [
    "7) Квантиль уровня 0.1"
   ]
  },
  {
   "cell_type": "code",
   "execution_count": 38,
   "metadata": {},
   "outputs": [
    {
     "data": {
      "text/plain": [
       "-1.3721836411102861"
      ]
     },
     "execution_count": 38,
     "metadata": {},
     "output_type": "execute_result"
    }
   ],
   "source": [
    "t.ppf(q = 0.1, df = df)"
   ]
  },
  {
   "cell_type": "markdown",
   "metadata": {},
   "source": [
    "### 1. Визуализируйте для выборки объема 5000 из распределения\n",
    "###    Стьюдента с 10-ю степенями свободы, при помощи Гистограммы,\n",
    "###    распределение:\n",
    "###    1)     Второго начального выборочного момента\n"
   ]
  },
  {
   "cell_type": "code",
   "execution_count": 39,
   "metadata": {},
   "outputs": [],
   "source": [
    "df = 10                                               # число степеней свободы"
   ]
  },
  {
   "cell_type": "code",
   "execution_count": 40,
   "metadata": {},
   "outputs": [],
   "source": [
    "m = 5000                                                # количество независимых выборок равного объема\n",
    "                                                        # из одного и того же распределения\n",
    "x_moment = np.empty(m)                                    # вектор, который будет содержать выборку\n",
    "                                                        # из реализаций выборочного среднего\n",
    "for i in range(0, m):\n",
    "    x_new = t.rvs(size = 1000, df = 5)\n",
    "    x_moment[i] = t.moment(n = 2, df = df)\n",
    "x_moment = np.sort(x_moment)                                # для удобства отсортируем реализации выборочных моментов"
   ]
  },
  {
   "cell_type": "markdown",
   "metadata": {},
   "source": [
    "Воспользуемся гистограммой"
   ]
  },
  {
   "cell_type": "code",
   "execution_count": null,
   "metadata": {},
   "outputs": [],
   "source": [
    "g = x_moment\n",
    "g.plot(kind='bar')\n",
    "for index, value in enumerate(g):\n",
    "    plt.text(index, value, str(round(value,2)))\n",
    "plt.ylabel('frequency')\n",
    "plt.title('распределение второго момента')\n",
    "plt.show()"
   ]
  },
  {
   "cell_type": "markdown",
   "metadata": {},
   "source": [
    "Питон на компьютере устарел и перестал поддерживать функции histplot из seaborn и plot из matplotlib, не стала переустанавливать, так как боялась, что не получится оперативно разобраться с анакондой, не могу поэтому проверить на правильность построение гистограмм"
   ]
  },
  {
   "cell_type": "markdown",
   "metadata": {},
   "source": [
    "### 1. Визуализируйте для выборки объема 5000 из распределения\n",
    "###    Стьюдента с 10-ю степенями свободы, при помощи Гистограммы,\n",
    "###    распределение:\n",
    "###    3)     Выборочной медианы\n"
   ]
  },
  {
   "cell_type": "code",
   "execution_count": 41,
   "metadata": {},
   "outputs": [],
   "source": [
    "m = 5000                                                # количество независимых выборок равного объема\n",
    "                                                        # из одного и того же распределения\n",
    "x_mean = np.empty(m)                                    # вектор, который будет содержать выборку\n",
    "                                                        # из реализаций выборочного среднего                                              # из реализаций выборочного среднего\n",
    "for i in range(0, m):\n",
    "    x_new = t.rvs(size = 1000, df = 5)\n",
    "    x_mean[i] = t.median(df = df)\n",
    "x_mean = np.sort(x_mean)                                # для удобства отсортируем реализации выборочных моментов"
   ]
  },
  {
   "cell_type": "code",
   "execution_count": 42,
   "metadata": {},
   "outputs": [
    {
     "ename": "AttributeError",
     "evalue": "'numpy.ndarray' object has no attribute 'plot'",
     "output_type": "error",
     "traceback": [
      "\u001b[1;31m---------------------------------------------------------------------------\u001b[0m",
      "\u001b[1;31mAttributeError\u001b[0m                            Traceback (most recent call last)",
      "\u001b[1;32m<ipython-input-42-9371fa2343b3>\u001b[0m in \u001b[0;36m<module>\u001b[1;34m\u001b[0m\n\u001b[0;32m      1\u001b[0m \u001b[0mg\u001b[0m \u001b[1;33m=\u001b[0m \u001b[0mx_mean\u001b[0m\u001b[1;33m\u001b[0m\u001b[1;33m\u001b[0m\u001b[0m\n\u001b[1;32m----> 2\u001b[1;33m \u001b[0mg\u001b[0m\u001b[1;33m.\u001b[0m\u001b[0mplot\u001b[0m\u001b[1;33m(\u001b[0m\u001b[0mkind\u001b[0m\u001b[1;33m=\u001b[0m\u001b[1;34m'bar'\u001b[0m\u001b[1;33m)\u001b[0m\u001b[1;33m\u001b[0m\u001b[1;33m\u001b[0m\u001b[0m\n\u001b[0m\u001b[0;32m      3\u001b[0m \u001b[1;32mfor\u001b[0m \u001b[0mindex\u001b[0m\u001b[1;33m,\u001b[0m \u001b[0mvalue\u001b[0m \u001b[1;32min\u001b[0m \u001b[0menumerate\u001b[0m\u001b[1;33m(\u001b[0m\u001b[0mg\u001b[0m\u001b[1;33m)\u001b[0m\u001b[1;33m:\u001b[0m\u001b[1;33m\u001b[0m\u001b[1;33m\u001b[0m\u001b[0m\n\u001b[0;32m      4\u001b[0m     \u001b[0mplt\u001b[0m\u001b[1;33m.\u001b[0m\u001b[0mtext\u001b[0m\u001b[1;33m(\u001b[0m\u001b[0mindex\u001b[0m\u001b[1;33m,\u001b[0m \u001b[0mvalue\u001b[0m\u001b[1;33m,\u001b[0m \u001b[0mstr\u001b[0m\u001b[1;33m(\u001b[0m\u001b[0mround\u001b[0m\u001b[1;33m(\u001b[0m\u001b[0mvalue\u001b[0m\u001b[1;33m,\u001b[0m\u001b[1;36m2\u001b[0m\u001b[1;33m)\u001b[0m\u001b[1;33m)\u001b[0m\u001b[1;33m)\u001b[0m\u001b[1;33m\u001b[0m\u001b[1;33m\u001b[0m\u001b[0m\n\u001b[0;32m      5\u001b[0m \u001b[0mplt\u001b[0m\u001b[1;33m.\u001b[0m\u001b[0mylabel\u001b[0m\u001b[1;33m(\u001b[0m\u001b[1;34m'frequency'\u001b[0m\u001b[1;33m)\u001b[0m\u001b[1;33m\u001b[0m\u001b[1;33m\u001b[0m\u001b[0m\n",
      "\u001b[1;31mAttributeError\u001b[0m: 'numpy.ndarray' object has no attribute 'plot'"
     ]
    }
   ],
   "source": [
    "g = x_mean\n",
    "g.plot(kind='bar')\n",
    "for index, value in enumerate(g):\n",
    "    plt.text(index, value, str(round(value,2)))\n",
    "plt.ylabel('frequency')\n",
    "plt.title('распределение второго момента')\n",
    "plt.show()"
   ]
  },
  {
   "cell_type": "markdown",
   "metadata": {},
   "source": [
    "(Повторяюсь) Питон на компьютере устарел и перестал поддерживать функции histplot из seaborn и plot из matplotlib, не стала переустанавливать, так как боялась, что не смогу оперативно переустановить, не могу поэтому проверить на правильность построение гистограмм"
   ]
  },
  {
   "cell_type": "markdown",
   "metadata": {},
   "source": [
    "# 1. Визуализируйте для выборки объема 5000 из распределения\n",
    "#    Стьюдента с 10-ю степенями свободы, при помощи Гистограммы,\n",
    "#    распределение:\n",
    "#    1)     Второго начального выборочного момента\n",
    "#    2)     Выборочной дисперсии\n",
    "#    3)     Выборочной медианы\n",
    "#    4)     Третьей порядковой статистики, то есть\n",
    "#           третьего элемента вариационного ряда\n",
    "#    5)     Выборочной квантили уровня 0.8\n",
    "#    6)     Выборочной функции распределения в точке 5"
   ]
  },
  {
   "cell_type": "markdown",
   "metadata": {},
   "source": [
    "Решим остальное"
   ]
  },
  {
   "cell_type": "code",
   "execution_count": null,
   "metadata": {},
   "outputs": [],
   "source": [
    "items = [t.var(df = df), t.ppf(q = 0.8, df = df)]\n",
    "m = 5000                                                # количество независимых выборок равного объема\n",
    "\n",
    "for item from items:\n",
    "    x_mean = np.empty(m)                                    \n",
    "    for i in range(0, m):\n",
    "        x_new = t.rvs(size = 1000, df = 5)\n",
    "        x_mean[i] = t.median(df = df)\n",
    "    x_mean = np.sort(x_mean)                                \n",
    "\n",
    "\n",
    "    g = x_mean\n",
    "    g.plot(kind='bar')\n",
    "    for index, value in enumerate(g):\n",
    "        plt.text(index, value, str(round(value,2)))\n",
    "    plt.ylabel('frequency')\n",
    "    plt.title('распределение второго момента')\n",
    "    plt.show()"
   ]
  },
  {
   "cell_type": "code",
   "execution_count": null,
   "metadata": {},
   "outputs": [],
   "source": [
    "Опять же, к сожалению, не могу проверить"
   ]
  },
  {
   "cell_type": "markdown",
   "metadata": {},
   "source": [
    "### 3. Симулируйте три независимых выборки объемом в 5000 наблюдений\n",
    "###    из стандартного равномерного распределения. Получите из этих\n",
    "###    двух выборок две сложив первую со второй, а вторую - с третьей.\n",
    "###    Для получившихся выборок:\n",
    "###    1)     Посчитайте выборочную ковариационную матрицу\n",
    "###    2)     Рассчитайте выборочную корреляционную матрицу"
   ]
  },
  {
   "cell_type": "code",
   "execution_count": 43,
   "metadata": {},
   "outputs": [],
   "source": [
    "# Симулируем выборку из двумерного\n",
    "# нормального распределения\n",
    "    # Зададим параметры распределения X и Y\n",
    "mu_X = 100                                              # E(X)\n",
    "mu_Y = 110                                              # E(Y)\n",
    "var_X = 25                                              # Var(X)\n",
    "var_Y = 36                                              # Var(Y)\n",
    "corr_XY = -0.5                                          # Corr(X, Y)\n",
    "cov_XY = math.sqrt(var_X * var_Y) *  corr_XY            # Cov(X, Y)\n",
    "    # Зададим параметры распределения\n",
    "    # случайного вектора (X, Y)\n",
    "mu = np.array([mu_X, mu_Y])                             # E((X, Y))\n",
    "sigma = np.array([[var_X, cov_XY],                      # Cov((X, Y))\n",
    "                  [cov_XY, var_Y]])\n",
    "    # Симулируем выборку\n",
    "n = 5000\n",
    "s = multivariate_normal.rvs(size = n,                   # объем выборки\n",
    "                             mean = mu,                 # E((X, Y))\n",
    "                             cov = sigma)               # Cov((X, Y))\n",
    "x = s[:, 0]                                             # реализации первой выборки\n",
    "y = s[:, 1]                                             # реализации второй выборки\n",
    "z = s[:, 1]                                             # реализации третьей выборки"
   ]
  },
  {
   "cell_type": "code",
   "execution_count": 44,
   "metadata": {},
   "outputs": [],
   "source": [
    "v1 = x + y\n",
    "v2 = y + z"
   ]
  },
  {
   "cell_type": "code",
   "execution_count": 45,
   "metadata": {},
   "outputs": [
    {
     "data": {
      "text/plain": [
       "array([[ 29.33236183,  40.81538253],\n",
       "       [ 40.81538253, 146.12726919]])"
      ]
     },
     "execution_count": 45,
     "metadata": {},
     "output_type": "execute_result"
    }
   ],
   "source": [
    "# Рассмотрим выборочные характеристики, описывающие\n",
    "# зависимость между v1 и v2\n",
    "np.cov(v1, v2)                                            # выборочная ковариационная матрица"
   ]
  },
  {
   "cell_type": "code",
   "execution_count": 46,
   "metadata": {},
   "outputs": [
    {
     "data": {
      "text/plain": [
       "array([[1.        , 0.62342573],\n",
       "       [0.62342573, 1.        ]])"
      ]
     },
     "execution_count": 46,
     "metadata": {},
     "output_type": "execute_result"
    }
   ],
   "source": [
    "np.corrcoef(v1, v2)                                       # выборочная корреляционная матрица"
   ]
  },
  {
   "cell_type": "code",
   "execution_count": null,
   "metadata": {},
   "outputs": [],
   "source": []
  },
  {
   "cell_type": "code",
   "execution_count": null,
   "metadata": {},
   "outputs": [],
   "source": []
  },
  {
   "cell_type": "code",
   "execution_count": null,
   "metadata": {},
   "outputs": [],
   "source": []
  }
 ],
 "metadata": {
  "kernelspec": {
   "display_name": "Python 3",
   "language": "python",
   "name": "python3"
  },
  "language_info": {
   "codemirror_mode": {
    "name": "ipython",
    "version": 3
   },
   "file_extension": ".py",
   "mimetype": "text/x-python",
   "name": "python",
   "nbconvert_exporter": "python",
   "pygments_lexer": "ipython3",
   "version": "3.8.3"
  }
 },
 "nbformat": 4,
 "nbformat_minor": 4
}
